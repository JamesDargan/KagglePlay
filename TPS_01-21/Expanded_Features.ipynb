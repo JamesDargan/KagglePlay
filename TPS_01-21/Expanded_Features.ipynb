{
 "cells": [
  {
   "cell_type": "code",
   "execution_count": 1,
   "metadata": {},
   "outputs": [],
   "source": [
    "import os\n",
    "\n",
    "import numpy as np\n",
    "import pandas as pd\n",
    "import matplotlib.pyplot as plt \n",
    "import seaborn as sns\n",
    "\n",
    "from sklearn.preprocessing import PolynomialFeatures, StandardScaler\n",
    "\n"
   ]
  },
  {
   "cell_type": "markdown",
   "metadata": {},
   "source": [
    "# Generate Expanded Feature Set"
   ]
  },
  {
   "cell_type": "code",
   "execution_count": 2,
   "metadata": {},
   "outputs": [],
   "source": [
    "train = pd.read_csv('./data/train.csv', index_col='id')\n",
    "test = pd.read_csv('./data/test.csv', index_col='id')\n",
    "\n",
    "features = train.columns.drop('target')\n",
    "target = train.loc[:,['target']]\n",
    "train.drop(columns = ['target'], inplace = True)\n",
    "\n",
    "\n",
    "poly2 = PolynomialFeatures(degree = 2, include_bias=False)\n",
    "ss = StandardScaler()\n",
    "\n",
    "train_exp = train.copy()\n",
    "train_exp = poly2.fit_transform(train_exp)\n",
    "train_exp = pd.DataFrame(train_exp, index = train.index, columns = poly2.get_feature_names(features))\n",
    "\n",
    "\n",
    "for feat in features:\n",
    "    for feat2 in features:\n",
    "        if feat[4:] < feat2[4:]:\n",
    "            train_exp[feat + '-add-' + feat2] = train_exp[feat] + train_exp[feat2]\n",
    "            train_exp[feat + '-div-' + feat2] = train_exp[feat]/train_exp[feat2]\n",
    "            train_exp[feat2 + '-div-' + feat] = train_exp[feat2]/train_exp[feat]\n",
    "\n",
    "feat_exp = train_exp.columns\n",
    "train_exp = ss.fit_transform(train_exp)\n",
    "train_exp = pd.DataFrame(train_exp, index = train.index, columns = feat_exp)\n",
    "train_exp.columns = train_exp.columns.str.replace(' ', '_')\n",
    "\n",
    "\n",
    "\n",
    "test_exp = test.copy()\n",
    "test_exp = poly2.transform(test_exp)\n",
    "test_exp = pd.DataFrame(test_exp, index = test.index, columns = poly2.get_feature_names(features))\n",
    "\n",
    "\n",
    "for feat in features:\n",
    "    for feat2 in features:\n",
    "        if feat[4:] < feat2[4:]:\n",
    "            test_exp[feat + '-add-' + feat2] = test_exp[feat] + test_exp[feat2]\n",
    "            test_exp[feat + '-div-' + feat2] = test_exp[feat]/test_exp[feat2]\n",
    "            test_exp[feat2 + '-div-' + feat] = test_exp[feat2]/test_exp[feat]\n",
    "\n",
    "\n",
    "test_exp = ss.fit_transform(test_exp)\n",
    "test_exp = pd.DataFrame(test_exp, index = test.index, columns = feat_exp)\n",
    "test_exp.columns = test_exp.columns.str.replace(' ', '_')\n"
   ]
  },
  {
   "cell_type": "code",
   "execution_count": 3,
   "metadata": {},
   "outputs": [],
   "source": [
    "train_exp.to_csv('./data/train_exp.csv')\n",
    "test_exp.to_csv('./data/test_exp.csv')"
   ]
  },
  {
   "cell_type": "code",
   "execution_count": null,
   "metadata": {},
   "outputs": [],
   "source": []
  },
  {
   "cell_type": "code",
   "execution_count": null,
   "metadata": {},
   "outputs": [],
   "source": []
  }
 ],
 "metadata": {
  "kernelspec": {
   "display_name": "Python 3",
   "language": "python",
   "name": "python3"
  },
  "language_info": {
   "codemirror_mode": {
    "name": "ipython",
    "version": 3
   },
   "file_extension": ".py",
   "mimetype": "text/x-python",
   "name": "python",
   "nbconvert_exporter": "python",
   "pygments_lexer": "ipython3",
   "version": "3.7.6"
  }
 },
 "nbformat": 4,
 "nbformat_minor": 4
}
